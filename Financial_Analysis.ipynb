{
 "cells": [
  {
   "cell_type": "code",
   "execution_count": 71,
   "metadata": {},
   "outputs": [
    {
     "data": {
      "text/plain": [
       "['https://cdn.pydata.org/bokeh/release/bokeh-0.12.5.min.js',\n",
       " 'https://cdn.pydata.org/bokeh/release/bokeh-widgets-0.12.5.min.js']"
      ]
     },
     "execution_count": 71,
     "metadata": {},
     "output_type": "execute_result"
    }
   ],
   "source": [
    "from pandas_datareader import data\n",
    "import datetime\n",
    "from bokeh.plotting import figure,show,output_file\n",
    "from bokeh.embed import components\n",
    "from bokeh.resources import CDN\n",
    "#the start and end parameter should be in \"datetime object\" format\n",
    "s = datetime.datetime(2017,7,1)\n",
    "e = datetime.datetime(2018,1,10)\n",
    "df = data.DataReader(name=\"GOOG\", data_source=\"yahoo\", start= s, end= e)\n",
    "\n",
    "p = figure(x_axis_type=\"datetime\", width=1000, height=300, responsive = True)\n",
    "p.title.text = \"Candlestick Chart(Google Stock Prices)\"\n",
    "\n",
    "#a function that determines whether the close price is higher than the open price\n",
    "def inc_dec(c, o):\n",
    "    if c > o:\n",
    "        value = \"Rise\"\n",
    "    elif c < o:\n",
    "        value = \"Drop\"\n",
    "    else:\n",
    "        value = \"Tie\"\n",
    "    return value\n",
    "\n",
    "\n",
    "df[\"Status\"] = [inc_dec(c,o) for c,o in zip(df.Close, df.Open)]  #list comprehension\n",
    "df[\"Mid\"] = (df.Open + df.Close)/2\n",
    "df[\"Height\"] = abs(df.Open - df.Close)\n",
    "\n",
    "#we build two types of rectangles-- one where the close price is higher, another one where the close price is lower\n",
    "hours_12 = 12*60*60*1000  #convert the width, which is 12 hours, to miliseconds\n",
    "\n",
    "p.segment(df.index, df.High, df.index, df.Low, color=\"black\")\n",
    "p.rect(df.index[df.Status == \"Rise\"], df.Mid[df.Status == \"Rise\"],hours_12, df.Height[df.Status == \"Rise\"], \n",
    "       fill_color = \"red\", line_color = \"black\" )\n",
    "\n",
    "p.rect(df.index[df.Status == \"Drop\"], df.Mid[df.Status == \"Drop\"],hours_12, df.Height[df.Status == \"Drop\"], \n",
    "       fill_color = \"#228B22\", line_color = \"black\" )\n",
    "\n",
    "#load the html elements and JS script that containing all data with \"embed\" library\n",
    "script1, div1, = components(p)\n",
    "\n",
    "#load the bokeh JS and CSS files with \"resources\" library\n",
    "cdn_js = CDN.js_files\n",
    "cdn_css = CDN.css_files\n",
    "\n",
    "\n",
    "\n",
    "# output_file(\"Graph.html\")\n",
    "# show(p)"
   ]
  },
  {
   "cell_type": "code",
   "execution_count": 72,
   "metadata": {},
   "outputs": [
    {
     "data": {
      "text/plain": [
       "['https://cdn.pydata.org/bokeh/release/bokeh-0.12.5.min.js',\n",
       " 'https://cdn.pydata.org/bokeh/release/bokeh-widgets-0.12.5.min.js']"
      ]
     },
     "execution_count": 72,
     "metadata": {},
     "output_type": "execute_result"
    }
   ],
   "source": [
    "cdn_js"
   ]
  },
  {
   "cell_type": "code",
   "execution_count": 73,
   "metadata": {},
   "outputs": [
    {
     "data": {
      "text/plain": [
       "['https://cdn.pydata.org/bokeh/release/bokeh-0.12.5.min.css',\n",
       " 'https://cdn.pydata.org/bokeh/release/bokeh-widgets-0.12.5.min.css']"
      ]
     },
     "execution_count": 73,
     "metadata": {},
     "output_type": "execute_result"
    }
   ],
   "source": [
    "cdn_css"
   ]
  },
  {
   "cell_type": "code",
   "execution_count": null,
   "metadata": {},
   "outputs": [],
   "source": []
  }
 ],
 "metadata": {
  "kernelspec": {
   "display_name": "Python 3",
   "language": "python",
   "name": "python3"
  },
  "language_info": {
   "codemirror_mode": {
    "name": "ipython",
    "version": 3
   },
   "file_extension": ".py",
   "mimetype": "text/x-python",
   "name": "python",
   "nbconvert_exporter": "python",
   "pygments_lexer": "ipython3",
   "version": "3.6.3"
  }
 },
 "nbformat": 4,
 "nbformat_minor": 2
}
